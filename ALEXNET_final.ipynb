{
  "nbformat": 4,
  "nbformat_minor": 0,
  "metadata": {
    "kernelspec": {
      "display_name": "Python 3",
      "language": "python",
      "name": "python3"
    },
    "language_info": {
      "codemirror_mode": {
        "name": "ipython",
        "version": 3
      },
      "file_extension": ".py",
      "mimetype": "text/x-python",
      "name": "python",
      "nbconvert_exporter": "python",
      "pygments_lexer": "ipython3",
      "version": "3.7.4"
    },
    "colab": {
      "name": "ALEXNET_final.ipynb",
      "version": "0.3.2",
      "provenance": [],
      "include_colab_link": true
    }
  },
  "cells": [
    {
      "cell_type": "markdown",
      "metadata": {
        "id": "view-in-github",
        "colab_type": "text"
      },
      "source": [
        "<a href=\"https://colab.research.google.com/github/Ankuraxz/AlexNet-Implementation-using-Keras/blob/master/ALEXNET_final.ipynb\" target=\"_parent\"><img src=\"https://colab.research.google.com/assets/colab-badge.svg\" alt=\"Open In Colab\"/></a>"
      ]
    },
    {
      "cell_type": "code",
      "metadata": {
        "id": "8co786veDAW2",
        "colab_type": "code",
        "colab": {
          "base_uri": "https://localhost:8080/",
          "height": 35
        },
        "outputId": "2ad87c45-5701-44bc-92e7-83ed5e4c0237"
      },
      "source": [
        "import numpy as np\n",
        "import pandas as pd\n",
        "from keras.models import Sequential\n",
        "from keras.layers import *"
      ],
      "execution_count": 1,
      "outputs": [
        {
          "output_type": "stream",
          "text": [
            "Using TensorFlow backend.\n"
          ],
          "name": "stderr"
        }
      ]
    },
    {
      "cell_type": "code",
      "metadata": {
        "id": "_ay_9wm7DAXC",
        "colab_type": "code",
        "colab": {
          "base_uri": "https://localhost:8080/",
          "height": 1000
        },
        "outputId": "0dab72e5-6600-4dbe-9e1b-58583101c661"
      },
      "source": [
        "#Hidden Conv. layers\n",
        "model = Sequential()\n",
        "# Conv2D(96,(55,55) , strides= 4, activation='relu', input_shape=(227,227,3))\n",
        "model.add(Conv2D(96,(11,11), strides= 4, activation='relu', input_shape=(227,227,3), padding='same')) #\n",
        "model.add(MaxPooling2D(pool_size=(11,11), strides= 2))\n",
        "# MaxPooling2D(pool_size=(27,27),kernel_size=(11,11), strides= 2, activation='relu')\n",
        "model.add(Conv2D(256,(5,5), strides= 1, activation='relu', padding='same'))           #5*5\n",
        "model.add(MaxPooling2D(pool_size=(3,3), strides= 2))\n",
        "\n",
        "model.add(Conv2D(384,(3,3), strides= 1, activation='relu'))\n",
        "model.add(Conv2D(384,(3,3), strides= 1, activation='relu'))\n",
        "model.add(Conv2D(256,(3,3), strides= 2, activation='relu'))\n",
        "\n",
        "model.add(Dropout(0.5))\n",
        "model.add(MaxPooling2D(pool_size=(3,3), strides= 2))\n",
        "\n",
        "model.add(Flatten())\n",
        "# outuput\n",
        "model.add(Dense(9216,activation='relu'))\n",
        "model.add(Dropout(0.5))#Fully connected layer and output layer\n",
        "model.add(Dense(4096,activation='relu'))\n",
        "model.add(Dense(4096,activation='relu'))\n",
        "model.add(Dense(1000,activation='softmax'))\n",
        "\n",
        "#compiling\n",
        "model.compile(loss= 'categorical_crossentropy',optimizer='adam',metrics=['accuracy'])\n",
        "model.summary()"
      ],
      "execution_count": 2,
      "outputs": [
        {
          "output_type": "stream",
          "text": [
            "WARNING: Logging before flag parsing goes to stderr.\n",
            "W0724 08:15:13.680832 139984416565120 deprecation_wrapper.py:119] From /usr/local/lib/python3.6/dist-packages/keras/backend/tensorflow_backend.py:74: The name tf.get_default_graph is deprecated. Please use tf.compat.v1.get_default_graph instead.\n",
            "\n",
            "W0724 08:15:13.713241 139984416565120 deprecation_wrapper.py:119] From /usr/local/lib/python3.6/dist-packages/keras/backend/tensorflow_backend.py:517: The name tf.placeholder is deprecated. Please use tf.compat.v1.placeholder instead.\n",
            "\n",
            "W0724 08:15:13.719323 139984416565120 deprecation_wrapper.py:119] From /usr/local/lib/python3.6/dist-packages/keras/backend/tensorflow_backend.py:4138: The name tf.random_uniform is deprecated. Please use tf.random.uniform instead.\n",
            "\n",
            "W0724 08:15:13.737030 139984416565120 deprecation_wrapper.py:119] From /usr/local/lib/python3.6/dist-packages/keras/backend/tensorflow_backend.py:3976: The name tf.nn.max_pool is deprecated. Please use tf.nn.max_pool2d instead.\n",
            "\n",
            "W0724 08:15:13.793151 139984416565120 deprecation_wrapper.py:119] From /usr/local/lib/python3.6/dist-packages/keras/backend/tensorflow_backend.py:133: The name tf.placeholder_with_default is deprecated. Please use tf.compat.v1.placeholder_with_default instead.\n",
            "\n",
            "W0724 08:15:13.804646 139984416565120 deprecation.py:506] From /usr/local/lib/python3.6/dist-packages/keras/backend/tensorflow_backend.py:3445: calling dropout (from tensorflow.python.ops.nn_ops) with keep_prob is deprecated and will be removed in a future version.\n",
            "Instructions for updating:\n",
            "Please use `rate` instead of `keep_prob`. Rate should be set to `rate = 1 - keep_prob`.\n",
            "W0724 08:15:13.897270 139984416565120 deprecation_wrapper.py:119] From /usr/local/lib/python3.6/dist-packages/keras/optimizers.py:790: The name tf.train.Optimizer is deprecated. Please use tf.compat.v1.train.Optimizer instead.\n",
            "\n",
            "W0724 08:15:13.923195 139984416565120 deprecation_wrapper.py:119] From /usr/local/lib/python3.6/dist-packages/keras/backend/tensorflow_backend.py:3295: The name tf.log is deprecated. Please use tf.math.log instead.\n",
            "\n"
          ],
          "name": "stderr"
        },
        {
          "output_type": "stream",
          "text": [
            "_________________________________________________________________\n",
            "Layer (type)                 Output Shape              Param #   \n",
            "=================================================================\n",
            "conv2d_1 (Conv2D)            (None, 57, 57, 96)        34944     \n",
            "_________________________________________________________________\n",
            "max_pooling2d_1 (MaxPooling2 (None, 24, 24, 96)        0         \n",
            "_________________________________________________________________\n",
            "conv2d_2 (Conv2D)            (None, 24, 24, 256)       614656    \n",
            "_________________________________________________________________\n",
            "max_pooling2d_2 (MaxPooling2 (None, 11, 11, 256)       0         \n",
            "_________________________________________________________________\n",
            "conv2d_3 (Conv2D)            (None, 9, 9, 384)         885120    \n",
            "_________________________________________________________________\n",
            "conv2d_4 (Conv2D)            (None, 7, 7, 384)         1327488   \n",
            "_________________________________________________________________\n",
            "conv2d_5 (Conv2D)            (None, 3, 3, 256)         884992    \n",
            "_________________________________________________________________\n",
            "dropout_1 (Dropout)          (None, 3, 3, 256)         0         \n",
            "_________________________________________________________________\n",
            "max_pooling2d_3 (MaxPooling2 (None, 1, 1, 256)         0         \n",
            "_________________________________________________________________\n",
            "flatten_1 (Flatten)          (None, 256)               0         \n",
            "_________________________________________________________________\n",
            "dense_1 (Dense)              (None, 9216)              2368512   \n",
            "_________________________________________________________________\n",
            "dropout_2 (Dropout)          (None, 9216)              0         \n",
            "_________________________________________________________________\n",
            "dense_2 (Dense)              (None, 4096)              37752832  \n",
            "_________________________________________________________________\n",
            "dense_3 (Dense)              (None, 4096)              16781312  \n",
            "_________________________________________________________________\n",
            "dense_4 (Dense)              (None, 1000)              4097000   \n",
            "=================================================================\n",
            "Total params: 64,746,856\n",
            "Trainable params: 64,746,856\n",
            "Non-trainable params: 0\n",
            "_________________________________________________________________\n"
          ],
          "name": "stdout"
        }
      ]
    },
    {
      "cell_type": "code",
      "metadata": {
        "id": "sgMYgoozDAXJ",
        "colab_type": "code",
        "colab": {}
      },
      "source": [
        "# # 1st Convolutional Layer\n",
        "# model.add(Conv2D(filters=96, input_shape=(224,224,3), kernel_size=(11,11), strides=(4,4), padding=’valid’))\n",
        "# model.add(Activation(‘relu’))\n",
        "# # # Max Pooling\n",
        "# # model.add(MaxPooling2D(pool_size=(2,2), strides=(2,2), padding=’valid’))\n",
        "\n",
        "# # # 2nd Convolutional Layer\n",
        "# # model.add(Conv2D(filters=256, kernel_size=(11,11), strides=(1,1), padding=’valid’))\n",
        "# # model.add(Activation(‘relu’))\n",
        "# # # Max Pooling\n",
        "# # model.add(MaxPooling2D(pool_size=(2,2), strides=(2,2), padding=’valid’))\n",
        "\n",
        "# # # 3rd Convolutional Layer\n",
        "# # model.add(Conv2D(filters=384, kernel_size=(3,3), strides=(1,1), padding=’valid’))\n",
        "# # model.add(Activation(‘relu’))\n",
        "\n",
        "# # 4th Convolutional Layer\n",
        "# model.add(Conv2D(filters=384, kernel_size=(3,3), strides=(1,1), padding=’valid’))\n",
        "# model.add(Activation(‘relu’))\n",
        "\n",
        "# # 5th Convolutional Layer\n",
        "# model.add(Conv2D(filters=256, kernel_size=(3,3), strides=(1,1), padding=’valid’))\n",
        "# model.add(Activation(‘relu’))\n",
        "# # Max Pooling\n",
        "# model.add(MaxPooling2D(pool_size=(2,2), strides=(2,2), padding=’valid’))\n",
        "\n",
        "# # Passing it to a Fully Connected layer\n",
        "# model.add(Flatten())\n",
        "# # 1st Fully Connected Layer\n",
        "# model.add(Dense(4096, input_shape=(224*224*3,)))\n",
        "# model.add(Activation(‘relu’))\n",
        "# # Add Dropout to prevent overfitting\n",
        "# model.add(Dropout(0.4))\n",
        "\n",
        "# # 2nd Fully Connected Layer\n",
        "# model.add(Dense(4096))\n",
        "# model.add(Activation(‘relu’))\n",
        "# # Add Dropout\n",
        "# model.add(Dropout(0.4))\n",
        "\n",
        "# # 3rd Fully Connected Layer\n",
        "# model.add(Dense(1000))\n",
        "# model.add(Activation(‘relu’))\n",
        "# # Add Dropout\n",
        "# model.add(Dropout(0.4))\n",
        "\n",
        "# # Output Layer\n",
        "# model.add(Dense(17))\n",
        "# model.add(Activation(‘softmax’))\n",
        "\n",
        "# model.summary()\n",
        "\n",
        "# # Compile the model\n",
        "# model.compile(loss=keras.losses.categorical_crossentropy, optimizer=’adam’, metrics=[“accuracy”]) "
      ],
      "execution_count": 0,
      "outputs": []
    },
    {
      "cell_type": "code",
      "metadata": {
        "id": "CN8kWcsSDAXO",
        "colab_type": "code",
        "colab": {}
      },
      "source": [
        ""
      ],
      "execution_count": 0,
      "outputs": []
    }
  ]
}