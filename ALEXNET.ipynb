{
  "nbformat": 4,
  "nbformat_minor": 0,
  "metadata": {
    "colab": {
      "name": "ALEXNET.ipynb",
      "version": "0.3.2",
      "provenance": [],
      "include_colab_link": true
    },
    "kernelspec": {
      "name": "python3",
      "display_name": "Python 3"
    }
  },
  "cells": [
    {
      "cell_type": "markdown",
      "metadata": {
        "id": "view-in-github",
        "colab_type": "text"
      },
      "source": [
        "<a href=\"https://colab.research.google.com/github/Ankuraxz/AlexNet-Implementation-using-Keras/blob/master/ALEXNET.ipynb\" target=\"_parent\"><img src=\"https://colab.research.google.com/assets/colab-badge.svg\" alt=\"Open In Colab\"/></a>"
      ]
    },
    {
      "cell_type": "code",
      "metadata": {
        "id": "7OFqdW6iknHI",
        "colab_type": "code",
        "colab": {
          "base_uri": "https://localhost:8080/",
          "height": 36
        },
        "outputId": "2d548e21-d8ed-4ac0-bac4-bb0b3fed0eab"
      },
      "source": [
        "import numpy as np\n",
        "import pandas as pd\n",
        "from keras.models import Sequential\n",
        "from keras.layers import *"
      ],
      "execution_count": 1,
      "outputs": [
        {
          "output_type": "stream",
          "text": [
            "Using TensorFlow backend.\n"
          ],
          "name": "stderr"
        }
      ]
    },
    {
      "cell_type": "code",
      "metadata": {
        "id": "ZjaEcxQWkz6v",
        "colab_type": "code",
        "colab": {
          "base_uri": "https://localhost:8080/",
          "height": 761
        },
        "outputId": "a9ca6bde-dac0-41a9-c360-7625a2ef1a1a"
      },
      "source": [
        "#Hidden Conv. layers\n",
        "model = Sequential()\n",
        "# Conv2D(96,(55,55) , strides= 4, activation='relu', input_shape=(227,227,3))\n",
        "model.add(Conv2D(96,(11,11), strides= 4, activation='relu', input_shape=(227,227,3))) #\n",
        "model.add(MaxPooling2D(pool_size=(11,11), strides= 2))\n",
        "# MaxPooling2D(pool_size=(27,27),kernel_size=(11,11), strides= 2, activation='relu')\n",
        "model.add(Conv2D(256,(3,3), strides= 1, activation='relu'))           #5*5\n",
        "model.add(MaxPooling2D(pool_size=(3,3), strides= 2))\n",
        "\n",
        "model.add(Conv2D(384,(3,3), strides= 1, activation='relu'))\n",
        "model.add(Conv2D(384,(3,3), strides= 1, activation='relu'))\n",
        "model.add(Conv2D(256,(3,3), strides= 1, activation='relu'))\n",
        "\n",
        "model.add(MaxPooling2D(pool_size=(3,3), strides= 2))\n",
        "\n",
        "model.add(Flatten())\n",
        "# outuput\n",
        "model.add(Dense(9216,activation='relu'))#Fully connected layer and output layer\n",
        "model.add(Dense(4096,activation='relu'))\n",
        "model.add(Dense(4096,activation='relu'))\n",
        "model.add(Dense(1000,activation='softmax'))\n",
        "\n",
        "#compiling\n",
        "model.compile(loss= 'categorical_crossentropy',optimizer='adam',metrics=['accuracy'])\n",
        "model.summary()"
      ],
      "execution_count": 7,
      "outputs": [
        {
          "output_type": "stream",
          "text": [
            "W0721 13:38:12.672101 140594280949632 deprecation_wrapper.py:119] From /usr/local/lib/python3.6/dist-packages/keras/backend/tensorflow_backend.py:3976: The name tf.nn.max_pool is deprecated. Please use tf.nn.max_pool2d instead.\n",
            "\n",
            "W0721 13:38:12.794069 140594280949632 deprecation_wrapper.py:119] From /usr/local/lib/python3.6/dist-packages/keras/optimizers.py:790: The name tf.train.Optimizer is deprecated. Please use tf.compat.v1.train.Optimizer instead.\n",
            "\n",
            "W0721 13:38:12.818180 140594280949632 deprecation_wrapper.py:119] From /usr/local/lib/python3.6/dist-packages/keras/backend/tensorflow_backend.py:3295: The name tf.log is deprecated. Please use tf.math.log instead.\n",
            "\n"
          ],
          "name": "stderr"
        },
        {
          "output_type": "stream",
          "text": [
            "_________________________________________________________________\n",
            "Layer (type)                 Output Shape              Param #   \n",
            "=================================================================\n",
            "conv2d_4 (Conv2D)            (None, 55, 55, 96)        34944     \n",
            "_________________________________________________________________\n",
            "max_pooling2d_1 (MaxPooling2 (None, 23, 23, 96)        0         \n",
            "_________________________________________________________________\n",
            "conv2d_5 (Conv2D)            (None, 21, 21, 256)       221440    \n",
            "_________________________________________________________________\n",
            "max_pooling2d_2 (MaxPooling2 (None, 10, 10, 256)       0         \n",
            "_________________________________________________________________\n",
            "conv2d_6 (Conv2D)            (None, 8, 8, 384)         885120    \n",
            "_________________________________________________________________\n",
            "conv2d_7 (Conv2D)            (None, 6, 6, 384)         1327488   \n",
            "_________________________________________________________________\n",
            "conv2d_8 (Conv2D)            (None, 4, 4, 256)         884992    \n",
            "_________________________________________________________________\n",
            "max_pooling2d_3 (MaxPooling2 (None, 1, 1, 256)         0         \n",
            "_________________________________________________________________\n",
            "flatten_1 (Flatten)          (None, 256)               0         \n",
            "_________________________________________________________________\n",
            "dense_1 (Dense)              (None, 9216)              2368512   \n",
            "_________________________________________________________________\n",
            "dense_2 (Dense)              (None, 4096)              37752832  \n",
            "_________________________________________________________________\n",
            "dense_3 (Dense)              (None, 4096)              16781312  \n",
            "_________________________________________________________________\n",
            "dense_4 (Dense)              (None, 1000)              4097000   \n",
            "=================================================================\n",
            "Total params: 64,353,640\n",
            "Trainable params: 64,353,640\n",
            "Non-trainable params: 0\n",
            "_________________________________________________________________\n"
          ],
          "name": "stdout"
        }
      ]
    },
    {
      "cell_type": "code",
      "metadata": {
        "id": "u9HcR-pelNUH",
        "colab_type": "code",
        "colab": {}
      },
      "source": [
        "# # 1st Convolutional Layer\n",
        "# model.add(Conv2D(filters=96, input_shape=(224,224,3), kernel_size=(11,11), strides=(4,4), padding=’valid’))\n",
        "# model.add(Activation(‘relu’))\n",
        "# # # Max Pooling\n",
        "# # model.add(MaxPooling2D(pool_size=(2,2), strides=(2,2), padding=’valid’))\n",
        "\n",
        "# # # 2nd Convolutional Layer\n",
        "# # model.add(Conv2D(filters=256, kernel_size=(11,11), strides=(1,1), padding=’valid’))\n",
        "# # model.add(Activation(‘relu’))\n",
        "# # # Max Pooling\n",
        "# # model.add(MaxPooling2D(pool_size=(2,2), strides=(2,2), padding=’valid’))\n",
        "\n",
        "# # # 3rd Convolutional Layer\n",
        "# # model.add(Conv2D(filters=384, kernel_size=(3,3), strides=(1,1), padding=’valid’))\n",
        "# # model.add(Activation(‘relu’))\n",
        "\n",
        "# # 4th Convolutional Layer\n",
        "# model.add(Conv2D(filters=384, kernel_size=(3,3), strides=(1,1), padding=’valid’))\n",
        "# model.add(Activation(‘relu’))\n",
        "\n",
        "# # 5th Convolutional Layer\n",
        "# model.add(Conv2D(filters=256, kernel_size=(3,3), strides=(1,1), padding=’valid’))\n",
        "# model.add(Activation(‘relu’))\n",
        "# # Max Pooling\n",
        "# model.add(MaxPooling2D(pool_size=(2,2), strides=(2,2), padding=’valid’))\n",
        "\n",
        "# # Passing it to a Fully Connected layer\n",
        "# model.add(Flatten())\n",
        "# # 1st Fully Connected Layer\n",
        "# model.add(Dense(4096, input_shape=(224*224*3,)))\n",
        "# model.add(Activation(‘relu’))\n",
        "# # Add Dropout to prevent overfitting\n",
        "# model.add(Dropout(0.4))\n",
        "\n",
        "# # 2nd Fully Connected Layer\n",
        "# model.add(Dense(4096))\n",
        "# model.add(Activation(‘relu’))\n",
        "# # Add Dropout\n",
        "# model.add(Dropout(0.4))\n",
        "\n",
        "# # 3rd Fully Connected Layer\n",
        "# model.add(Dense(1000))\n",
        "# model.add(Activation(‘relu’))\n",
        "# # Add Dropout\n",
        "# model.add(Dropout(0.4))\n",
        "\n",
        "# # Output Layer\n",
        "# model.add(Dense(17))\n",
        "# model.add(Activation(‘softmax’))\n",
        "\n",
        "# model.summary()\n",
        "\n",
        "# # Compile the model\n",
        "# model.compile(loss=keras.losses.categorical_crossentropy, optimizer=’adam’, metrics=[“accuracy”]) "
      ],
      "execution_count": 0,
      "outputs": []
    }
  ]
}